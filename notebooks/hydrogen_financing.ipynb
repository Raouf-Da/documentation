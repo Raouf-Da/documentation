{
 "cells": [
  {
   "cell_type": "markdown",
   "metadata": {},
   "source": [
    "# Analyse hydrogen financing results from Pypsa-Earth network\n",
    "This notebook analyze the financing hydrogen data of the network (.nc) file. It generates comprehensive plots and summaries to visualize the results.\n",
    "* Capital expenditures (CAPEX)\n",
    "* Operational costs (OPEX)\n",
    "* Revenue\n",
    "* Levelized Cost of Hydrogen (LCOH)*"
   ]
  },
  {
   "cell_type": "markdown",
   "metadata": {},
   "source": [
    "Sources: \n",
    "- Statistics module: https://pypsa.readthedocs.io/en/latest/examples/statistics.html\n",
    "- Templates and colors: https://github.com/pypsa-meets-earth/documentation/blob/main/notebooks/network_analysis.ipynb"
   ]
  },
  {
   "cell_type": "markdown",
   "metadata": {},
   "source": [
    "File is needed:\n",
    "* PyPSA network file (.nc) includes the hydrogen financing information."
   ]
  },
  {
   "cell_type": "markdown",
   "metadata": {},
   "source": [
    "## Import packages"
   ]
  },
  {
   "cell_type": "code",
   "execution_count": null,
   "metadata": {},
   "outputs": [],
   "source": [
    "import yaml\n",
    "import pypsa\n",
    "import warnings\n",
    "import matplotlib.pyplot as plt\n",
    "import pandas as pd"
   ]
  },
  {
   "cell_type": "markdown",
   "metadata": {},
   "source": [
    "## Path settings\n",
    "This section reads the config parameters from your config.yaml file and automatically reads the output of the optimization with those settings"
   ]
  },
  {
   "cell_type": "code",
   "execution_count": null,
   "metadata": {},
   "outputs": [],
   "source": [
    "warnings.simplefilter(action='ignore', category=FutureWarning)\n",
    "# Set your pypsa-earth directory here\n",
    "PARENT = \"/home/pypsa-earth/\"\n",
    "# Set your network path (.nc) here\n",
    "network_path = PARENT + f\"results/networks/elec_s_10_ec_lc3.0_Co2L_3H_2035_0.071_AB_14export.nc\"\n",
    "n = pypsa.Network(network_path)\n",
    "config_path = PARENT + f\"/config.yaml\"\n",
    "config = yaml.safe_load(open(config_path))"
   ]
  }
 ],
 "metadata": {
  "kernelspec": {
   "display_name": "pypsa-earth",
   "language": "python",
   "name": "python3"
  },
  "language_info": {
   "codemirror_mode": {
    "name": "ipython",
    "version": 3
   },
   "file_extension": ".py",
   "mimetype": "text/x-python",
   "name": "python",
   "nbconvert_exporter": "python",
   "pygments_lexer": "ipython3",
   "version": "3.10.15"
  }
 },
 "nbformat": 4,
 "nbformat_minor": 2
}
