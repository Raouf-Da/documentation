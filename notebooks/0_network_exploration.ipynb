{
 "cells": [
  {
   "attachments": {},
   "cell_type": "markdown",
   "metadata": {},
   "source": [
    "# Plotting PyPSA networks along the workflow\n",
    "\n",
    "### Jupyter scripts need to be improved\n",
    "\n",
    "In this script, the ouputs of the PyPSA networks calculated in the Data Workflow are computed.\n",
    "In particular, the considered outputs are of the following scripts:\n",
    "- download_osm_data\n",
    "- clean_osm_data\n",
    "- osm_build_network\n",
    "- base_network\n",
    "- add_electricity\n",
    "- simplify_network\n",
    "- cluster_network\n",
    "\n",
    "In the following, the output networks described by the files are loaded and plotted by using `hvplot` package.\n",
    "Such package enables a more interactive scouting of the files, which simplifies the learning phase and debugging process, when needed."
   ]
  },
  {
   "attachments": {},
   "cell_type": "markdown",
   "metadata": {},
   "source": [
    "## Change the current directory to the main package folder"
   ]
  },
  {
   "cell_type": "code",
   "execution_count": 5,
   "metadata": {},
   "outputs": [],
   "source": [
    "# change current directory to parent folder\n",
    "import os\n",
    "import sys\n",
    "\n",
    "if not os.path.isdir(\"pypsa-earth\"):\n",
    "    os.chdir(\"../..\")\n",
    "sys.path.append(os.getcwd()+\"/pypsa-earth/scripts\")"
   ]
  },
  {
   "attachments": {},
   "cell_type": "markdown",
   "metadata": {},
   "source": [
    "## Specify file paths of the files related to the scripts"
   ]
  },
  {
   "cell_type": "code",
   "execution_count": 6,
   "metadata": {},
   "outputs": [],
   "source": [
    "scenario_name = \"\"  # scenario name, default value is \"\" for tutorial or default configuration\n",
    "                    # value shall be non null if a scenario name is specified under the \"run\" tag in the config file\n",
    "\n",
    "scenario_subpath = scenario_name + \"/\" if scenario_name else \"\"\n",
    "\n",
    "# file paths of download_osm_data outputs\n",
    "substations_ODD_path = (\n",
    "    os.getcwd() + \"/pypsa-earth/resources/\" + scenario_subpath + \"osm/raw/all_raw_substations.geojson\"\n",
    ")\n",
    "lines_ODD_path = os.getcwd() + \"/pypsa-earth/resources/\" + scenario_subpath + \"osm/raw/all_raw_lines.geojson\"\n",
    "# file paths of clean_osm_data outputs\n",
    "substations_ODC_path = (\n",
    "    os.getcwd() + \"/pypsa-earth/resources/\" + scenario_subpath + \"osm/clean/all_clean_substations.geojson\"\n",
    ")\n",
    "lines_ODC_path = os.getcwd() + \"/pypsa-earth/resources/\" + scenario_subpath + \"osm/clean/all_clean_lines.geojson\"\n",
    "# file paths of osm_build_network outputs\n",
    "substations_OBN_path = (\n",
    "    os.getcwd() + \"/pypsa-earth/resources/\" + scenario_subpath + \"base_network/all_buses_build_network.csv\"\n",
    ")\n",
    "lines_OBN_path = (\n",
    "    os.getcwd() + \"/pypsa-earth/resources/\" + scenario_subpath + \"base_network/all_lines_build_network.csv\"\n",
    ")\n",
    "transformer_OBN_path = (\n",
    "    os.getcwd() + \"/pypsa-earth/resources/\" + scenario_subpath + \"base_network/all_transformers_build_network.csv\"\n",
    ")\n",
    "# base_network file path\n",
    "network_path_b = os.getcwd() + \"/pypsa-earth/networks/\" + scenario_subpath + \"base.nc\"\n",
    "# add_electricity file path\n",
    "network_path_a = os.getcwd() + \"/pypsa-earth/networks/\" + scenario_subpath + \"elec.nc\"\n",
    "# simplify_network file path\n",
    "network_path_s = os.getcwd() + \"/pypsa-earth/networks/\" + scenario_subpath + \"elec_s.nc\"\n",
    "# cluster_network file path\n",
    "network_path_c = os.getcwd() + \"/pypsa-earth/networks/\" + scenario_subpath + \"elec_s_6.nc\""
   ]
  },
  {
   "attachments": {},
   "cell_type": "markdown",
   "metadata": {},
   "source": [
    "## Load python packages"
   ]
  },
  {
   "cell_type": "code",
   "execution_count": 7,
   "metadata": {},
   "outputs": [
    {
     "data": {
      "text/html": [
       "<script type=\"esms-options\">{\"shimMode\": true}</script><style>*[data-root-id],\n",
       "*[data-root-id] > * {\n",
       "  box-sizing: border-box;\n",
       "  font-family: var(--jp-ui-font-family);\n",
       "  font-size: var(--jp-ui-font-size1);\n",
       "  color: var(--vscode-editor-foreground, var(--jp-ui-font-color1));\n",
       "}\n",
       "\n",
       "/* Override VSCode background color */\n",
       ".cell-output-ipywidget-background:has(\n",
       "  > .cell-output-ipywidget-background > .lm-Widget > *[data-root-id]\n",
       "),\n",
       ".cell-output-ipywidget-background:has(> .lm-Widget > *[data-root-id]) {\n",
       "  background-color: transparent !important;\n",
       "}\n",
       "</style>"
      ]
     },
     "metadata": {},
     "output_type": "display_data"
    },
    {
     "data": {
      "application/javascript": "(function(root) {\n  function now() {\n    return new Date();\n  }\n\n  const force = true;\n  const py_version = '3.7.3'.replace('rc', '-rc.').replace('.dev', '-dev.');\n  const reloading = false;\n  const Bokeh = root.Bokeh;\n\n  // Set a timeout for this load but only if we are not already initializing\n  if (typeof (root._bokeh_timeout) === \"undefined\" || (force || !root._bokeh_is_initializing)) {\n    root._bokeh_timeout = Date.now() + 5000;\n    root._bokeh_failed_load = false;\n  }\n\n  function run_callbacks() {\n    try {\n      root._bokeh_onload_callbacks.forEach(function(callback) {\n        if (callback != null)\n          callback();\n      });\n    } finally {\n      delete root._bokeh_onload_callbacks;\n    }\n    console.debug(\"Bokeh: all callbacks have finished\");\n  }\n\n  function load_libs(css_urls, js_urls, js_modules, js_exports, callback) {\n    if (css_urls == null) css_urls = [];\n    if (js_urls == null) js_urls = [];\n    if (js_modules == null) js_modules = [];\n    if (js_exports == null) js_exports = {};\n\n    root._bokeh_onload_callbacks.push(callback);\n\n    if (root._bokeh_is_loading > 0) {\n      // Don't load bokeh if it is still initializing\n      console.debug(\"Bokeh: BokehJS is being loaded, scheduling callback at\", now());\n      return null;\n    } else if (js_urls.length === 0 && js_modules.length === 0 && Object.keys(js_exports).length === 0) {\n      // There is nothing to load\n      run_callbacks();\n      return null;\n    }\n\n    function on_load() {\n      root._bokeh_is_loading--;\n      if (root._bokeh_is_loading === 0) {\n        console.debug(\"Bokeh: all BokehJS libraries/stylesheets loaded\");\n        run_callbacks()\n      }\n    }\n    window._bokeh_on_load = on_load\n\n    function on_error(e) {\n      const src_el = e.srcElement\n      console.error(\"failed to load \" + (src_el.href || src_el.src));\n    }\n\n    const skip = [];\n    if (window.requirejs) {\n      window.requirejs.config({'packages': {}, 'paths': {}, 'shim': {}});\n      root._bokeh_is_loading = css_urls.length + 0;\n    } else {\n      root._bokeh_is_loading = css_urls.length + js_urls.length + js_modules.length + Object.keys(js_exports).length;\n    }\n\n    const existing_stylesheets = []\n    const links = document.getElementsByTagName('link')\n    for (let i = 0; i < links.length; i++) {\n      const link = links[i]\n      if (link.href != null) {\n        existing_stylesheets.push(link.href)\n      }\n    }\n    for (let i = 0; i < css_urls.length; i++) {\n      const url = css_urls[i];\n      const escaped = encodeURI(url)\n      if (existing_stylesheets.indexOf(escaped) !== -1) {\n        on_load()\n        continue;\n      }\n      const element = document.createElement(\"link\");\n      element.onload = on_load;\n      element.onerror = on_error;\n      element.rel = \"stylesheet\";\n      element.type = \"text/css\";\n      element.href = url;\n      console.debug(\"Bokeh: injecting link tag for BokehJS stylesheet: \", url);\n      document.body.appendChild(element);\n    }    var existing_scripts = []\n    const scripts = document.getElementsByTagName('script')\n    for (let i = 0; i < scripts.length; i++) {\n      var script = scripts[i]\n      if (script.src != null) {\n        existing_scripts.push(script.src)\n      }\n    }\n    for (let i = 0; i < js_urls.length; i++) {\n      const url = js_urls[i];\n      const escaped = encodeURI(url)\n      if (skip.indexOf(escaped) !== -1 || existing_scripts.indexOf(escaped) !== -1) {\n        if (!window.requirejs) {\n          on_load();\n        }\n        continue;\n      }\n      const element = document.createElement('script');\n      element.onload = on_load;\n      element.onerror = on_error;\n      element.async = false;\n      element.src = url;\n      console.debug(\"Bokeh: injecting script tag for BokehJS library: \", url);\n      document.head.appendChild(element);\n    }\n    for (let i = 0; i < js_modules.length; i++) {\n      const url = js_modules[i];\n      const escaped = encodeURI(url)\n      if (skip.indexOf(escaped) !== -1 || existing_scripts.indexOf(escaped) !== -1) {\n        if (!window.requirejs) {\n          on_load();\n        }\n        continue;\n      }\n      var element = document.createElement('script');\n      element.onload = on_load;\n      element.onerror = on_error;\n      element.async = false;\n      element.src = url;\n      element.type = \"module\";\n      console.debug(\"Bokeh: injecting script tag for BokehJS library: \", url);\n      document.head.appendChild(element);\n    }\n    for (const name in js_exports) {\n      const url = js_exports[name];\n      const escaped = encodeURI(url)\n      if (skip.indexOf(escaped) >= 0 || root[name] != null) {\n        if (!window.requirejs) {\n          on_load();\n        }\n        continue;\n      }\n      var element = document.createElement('script');\n      element.onerror = on_error;\n      element.async = false;\n      element.type = \"module\";\n      console.debug(\"Bokeh: injecting script tag for BokehJS library: \", url);\n      element.textContent = `\n      import ${name} from \"${url}\"\n      window.${name} = ${name}\n      window._bokeh_on_load()\n      `\n      document.head.appendChild(element);\n    }\n    if (!js_urls.length && !js_modules.length) {\n      on_load()\n    }\n  };\n\n  function inject_raw_css(css) {\n    const element = document.createElement(\"style\");\n    element.appendChild(document.createTextNode(css));\n    document.body.appendChild(element);\n  }\n\n  const js_urls = [\"https://cdn.holoviz.org/panel/1.7.5/dist/bundled/reactiveesm/es-module-shims@^1.10.0/dist/es-module-shims.min.js\", \"https://cdn.bokeh.org/bokeh/release/bokeh-3.7.3.min.js\", \"https://cdn.bokeh.org/bokeh/release/bokeh-gl-3.7.3.min.js\", \"https://cdn.bokeh.org/bokeh/release/bokeh-widgets-3.7.3.min.js\", \"https://cdn.bokeh.org/bokeh/release/bokeh-tables-3.7.3.min.js\", \"https://cdn.holoviz.org/panel/1.7.5/dist/panel.min.js\", \"https://cdn.jsdelivr.net/npm/@holoviz/geoviews@1.14.0/dist/geoviews.min.js\"];\n  const js_modules = [];\n  const js_exports = {};\n  const css_urls = [];\n  const inline_js = [    function(Bokeh) {\n      Bokeh.set_log_level(\"info\");\n    },\nfunction(Bokeh) {} // ensure no trailing comma for IE\n  ];\n\n  function run_inline_js() {\n    if ((root.Bokeh !== undefined) || (force === true)) {\n      for (let i = 0; i < inline_js.length; i++) {\n        try {\n          inline_js[i].call(root, root.Bokeh);\n        } catch(e) {\n          if (!reloading) {\n            throw e;\n          }\n        }\n      }\n      // Cache old bokeh versions\n      if (Bokeh != undefined && !reloading) {\n        var NewBokeh = root.Bokeh;\n        if (Bokeh.versions === undefined) {\n          Bokeh.versions = new Map();\n        }\n        if (NewBokeh.version !== Bokeh.version) {\n          Bokeh.versions.set(NewBokeh.version, NewBokeh)\n        }\n        root.Bokeh = Bokeh;\n      }\n    } else if (Date.now() < root._bokeh_timeout) {\n      setTimeout(run_inline_js, 100);\n    } else if (!root._bokeh_failed_load) {\n      console.log(\"Bokeh: BokehJS failed to load within specified timeout.\");\n      root._bokeh_failed_load = true;\n    }\n    root._bokeh_is_initializing = false\n  }\n\n  function load_or_wait() {\n    // Implement a backoff loop that tries to ensure we do not load multiple\n    // versions of Bokeh and its dependencies at the same time.\n    // In recent versions we use the root._bokeh_is_initializing flag\n    // to determine whether there is an ongoing attempt to initialize\n    // bokeh, however for backward compatibility we also try to ensure\n    // that we do not start loading a newer (Panel>=1.0 and Bokeh>3) version\n    // before older versions are fully initialized.\n    if (root._bokeh_is_initializing && Date.now() > root._bokeh_timeout) {\n      // If the timeout and bokeh was not successfully loaded we reset\n      // everything and try loading again\n      root._bokeh_timeout = Date.now() + 5000;\n      root._bokeh_is_initializing = false;\n      root._bokeh_onload_callbacks = undefined;\n      root._bokeh_is_loading = 0\n      console.log(\"Bokeh: BokehJS was loaded multiple times but one version failed to initialize.\");\n      load_or_wait();\n    } else if (root._bokeh_is_initializing || (typeof root._bokeh_is_initializing === \"undefined\" && root._bokeh_onload_callbacks !== undefined)) {\n      setTimeout(load_or_wait, 100);\n    } else {\n      root._bokeh_is_initializing = true\n      root._bokeh_onload_callbacks = []\n      const bokeh_loaded = root.Bokeh != null && (root.Bokeh.version === py_version || (root.Bokeh.versions !== undefined && root.Bokeh.versions.has(py_version)));\n      if (!reloading && !bokeh_loaded) {\n        if (root.Bokeh) {\n          root.Bokeh = undefined;\n        }\n        console.debug(\"Bokeh: BokehJS not loaded, scheduling load and callback at\", now());\n      }\n      load_libs(css_urls, js_urls, js_modules, js_exports, function() {\n        console.debug(\"Bokeh: BokehJS plotting callback run at\", now());\n        run_inline_js();\n      });\n    }\n  }\n  // Give older versions of the autoload script a head-start to ensure\n  // they initialize before we start loading newer version.\n  setTimeout(load_or_wait, 100)\n}(window));",
      "application/vnd.holoviews_load.v0+json": ""
     },
     "metadata": {},
     "output_type": "display_data"
    },
    {
     "data": {
      "application/javascript": "\nif ((window.PyViz === undefined) || (window.PyViz instanceof HTMLElement)) {\n  window.PyViz = {comms: {}, comm_status:{}, kernels:{}, receivers: {}, plot_index: []}\n}\n\n\n    function JupyterCommManager() {\n    }\n\n    JupyterCommManager.prototype.register_target = function(plot_id, comm_id, msg_handler) {\n      if (window.comm_manager || ((window.Jupyter !== undefined) && (Jupyter.notebook.kernel != null))) {\n        var comm_manager = window.comm_manager || Jupyter.notebook.kernel.comm_manager;\n        comm_manager.register_target(comm_id, function(comm) {\n          comm.on_msg(msg_handler);\n        });\n      } else if ((plot_id in window.PyViz.kernels) && (window.PyViz.kernels[plot_id])) {\n        window.PyViz.kernels[plot_id].registerCommTarget(comm_id, function(comm) {\n          comm.onMsg = msg_handler;\n        });\n      } else if (typeof google != 'undefined' && google.colab.kernel != null) {\n        google.colab.kernel.comms.registerTarget(comm_id, (comm) => {\n          var messages = comm.messages[Symbol.asyncIterator]();\n          function processIteratorResult(result) {\n            var message = result.value;\n            var content = {data: message.data, comm_id};\n            var buffers = []\n            for (var buffer of message.buffers || []) {\n              buffers.push(new DataView(buffer))\n            }\n            var metadata = message.metadata || {};\n            var msg = {content, buffers, metadata}\n            msg_handler(msg);\n            return messages.next().then(processIteratorResult);\n          }\n          return messages.next().then(processIteratorResult);\n        })\n      }\n    }\n\n    JupyterCommManager.prototype.get_client_comm = function(plot_id, comm_id, msg_handler) {\n      if (comm_id in window.PyViz.comms) {\n        return window.PyViz.comms[comm_id];\n      } else if (window.comm_manager || ((window.Jupyter !== undefined) && (Jupyter.notebook.kernel != null))) {\n        var comm_manager = window.comm_manager || Jupyter.notebook.kernel.comm_manager;\n        var comm = comm_manager.new_comm(comm_id, {}, {}, {}, comm_id);\n        if (msg_handler) {\n          comm.on_msg(msg_handler);\n        }\n      } else if ((plot_id in window.PyViz.kernels) && (window.PyViz.kernels[plot_id])) {\n        var comm = window.PyViz.kernels[plot_id].connectToComm(comm_id);\n        let retries = 0;\n        const open = () => {\n          if (comm.active) {\n            comm.open();\n          } else if (retries > 3) {\n            console.warn('Comm target never activated')\n          } else {\n            retries += 1\n            setTimeout(open, 500)\n          }\n        }\n        if (comm.active) {\n          comm.open();\n        } else {\n          setTimeout(open, 500)\n        }\n        if (msg_handler) {\n          comm.onMsg = msg_handler;\n        }\n      } else if (typeof google != 'undefined' && google.colab.kernel != null) {\n        var comm_promise = google.colab.kernel.comms.open(comm_id)\n        comm_promise.then((comm) => {\n          window.PyViz.comms[comm_id] = comm;\n          if (msg_handler) {\n            var messages = comm.messages[Symbol.asyncIterator]();\n            function processIteratorResult(result) {\n              var message = result.value;\n              var content = {data: message.data};\n              var metadata = message.metadata || {comm_id};\n              var msg = {content, metadata}\n              msg_handler(msg);\n              return messages.next().then(processIteratorResult);\n            }\n            return messages.next().then(processIteratorResult);\n          }\n        })\n        var sendClosure = (data, metadata, buffers, disposeOnDone) => {\n          return comm_promise.then((comm) => {\n            comm.send(data, metadata, buffers, disposeOnDone);\n          });\n        };\n        var comm = {\n          send: sendClosure\n        };\n      }\n      window.PyViz.comms[comm_id] = comm;\n      return comm;\n    }\n    window.PyViz.comm_manager = new JupyterCommManager();\n    \n\n\nvar JS_MIME_TYPE = 'application/javascript';\nvar HTML_MIME_TYPE = 'text/html';\nvar EXEC_MIME_TYPE = 'application/vnd.holoviews_exec.v0+json';\nvar CLASS_NAME = 'output';\n\n/**\n * Render data to the DOM node\n */\nfunction render(props, node) {\n  var div = document.createElement(\"div\");\n  var script = document.createElement(\"script\");\n  node.appendChild(div);\n  node.appendChild(script);\n}\n\n/**\n * Handle when a new output is added\n */\nfunction handle_add_output(event, handle) {\n  var output_area = handle.output_area;\n  var output = handle.output;\n  if ((output.data == undefined) || (!output.data.hasOwnProperty(EXEC_MIME_TYPE))) {\n    return\n  }\n  var id = output.metadata[EXEC_MIME_TYPE][\"id\"];\n  var toinsert = output_area.element.find(\".\" + CLASS_NAME.split(' ')[0]);\n  if (id !== undefined) {\n    var nchildren = toinsert.length;\n    var html_node = toinsert[nchildren-1].children[0];\n    html_node.innerHTML = output.data[HTML_MIME_TYPE];\n    var scripts = [];\n    var nodelist = html_node.querySelectorAll(\"script\");\n    for (var i in nodelist) {\n      if (nodelist.hasOwnProperty(i)) {\n        scripts.push(nodelist[i])\n      }\n    }\n\n    scripts.forEach( function (oldScript) {\n      var newScript = document.createElement(\"script\");\n      var attrs = [];\n      var nodemap = oldScript.attributes;\n      for (var j in nodemap) {\n        if (nodemap.hasOwnProperty(j)) {\n          attrs.push(nodemap[j])\n        }\n      }\n      attrs.forEach(function(attr) { newScript.setAttribute(attr.name, attr.value) });\n      newScript.appendChild(document.createTextNode(oldScript.innerHTML));\n      oldScript.parentNode.replaceChild(newScript, oldScript);\n    });\n    if (JS_MIME_TYPE in output.data) {\n      toinsert[nchildren-1].children[1].textContent = output.data[JS_MIME_TYPE];\n    }\n    output_area._hv_plot_id = id;\n    if ((window.Bokeh !== undefined) && (id in Bokeh.index)) {\n      window.PyViz.plot_index[id] = Bokeh.index[id];\n    } else {\n      window.PyViz.plot_index[id] = null;\n    }\n  } else if (output.metadata[EXEC_MIME_TYPE][\"server_id\"] !== undefined) {\n    var bk_div = document.createElement(\"div\");\n    bk_div.innerHTML = output.data[HTML_MIME_TYPE];\n    var script_attrs = bk_div.children[0].attributes;\n    for (var i = 0; i < script_attrs.length; i++) {\n      toinsert[toinsert.length - 1].childNodes[1].setAttribute(script_attrs[i].name, script_attrs[i].value);\n    }\n    // store reference to server id on output_area\n    output_area._bokeh_server_id = output.metadata[EXEC_MIME_TYPE][\"server_id\"];\n  }\n}\n\n/**\n * Handle when an output is cleared or removed\n */\nfunction handle_clear_output(event, handle) {\n  var id = handle.cell.output_area._hv_plot_id;\n  var server_id = handle.cell.output_area._bokeh_server_id;\n  if (((id === undefined) || !(id in PyViz.plot_index)) && (server_id !== undefined)) { return; }\n  var comm = window.PyViz.comm_manager.get_client_comm(\"hv-extension-comm\", \"hv-extension-comm\", function () {});\n  if (server_id !== null) {\n    comm.send({event_type: 'server_delete', 'id': server_id});\n    return;\n  } else if (comm !== null) {\n    comm.send({event_type: 'delete', 'id': id});\n  }\n  delete PyViz.plot_index[id];\n  if ((window.Bokeh !== undefined) & (id in window.Bokeh.index)) {\n    var doc = window.Bokeh.index[id].model.document\n    doc.clear();\n    const i = window.Bokeh.documents.indexOf(doc);\n    if (i > -1) {\n      window.Bokeh.documents.splice(i, 1);\n    }\n  }\n}\n\n/**\n * Handle kernel restart event\n */\nfunction handle_kernel_cleanup(event, handle) {\n  delete PyViz.comms[\"hv-extension-comm\"];\n  window.PyViz.plot_index = {}\n}\n\n/**\n * Handle update_display_data messages\n */\nfunction handle_update_output(event, handle) {\n  handle_clear_output(event, {cell: {output_area: handle.output_area}})\n  handle_add_output(event, handle)\n}\n\nfunction register_renderer(events, OutputArea) {\n  function append_mime(data, metadata, element) {\n    // create a DOM node to render to\n    var toinsert = this.create_output_subarea(\n    metadata,\n    CLASS_NAME,\n    EXEC_MIME_TYPE\n    );\n    this.keyboard_manager.register_events(toinsert);\n    // Render to node\n    var props = {data: data, metadata: metadata[EXEC_MIME_TYPE]};\n    render(props, toinsert[0]);\n    element.append(toinsert);\n    return toinsert\n  }\n\n  events.on('output_added.OutputArea', handle_add_output);\n  events.on('output_updated.OutputArea', handle_update_output);\n  events.on('clear_output.CodeCell', handle_clear_output);\n  events.on('delete.Cell', handle_clear_output);\n  events.on('kernel_ready.Kernel', handle_kernel_cleanup);\n\n  OutputArea.prototype.register_mime_type(EXEC_MIME_TYPE, append_mime, {\n    safe: true,\n    index: 0\n  });\n}\n\nif (window.Jupyter !== undefined) {\n  try {\n    var events = require('base/js/events');\n    var OutputArea = require('notebook/js/outputarea').OutputArea;\n    if (OutputArea.prototype.mime_types().indexOf(EXEC_MIME_TYPE) == -1) {\n      register_renderer(events, OutputArea);\n    }\n  } catch(err) {\n  }\n}\n",
      "application/vnd.holoviews_load.v0+json": ""
     },
     "metadata": {},
     "output_type": "display_data"
    },
    {
     "data": {
      "application/vnd.holoviews_exec.v0+json": "",
      "text/html": [
       "<div id='358ed921-e52f-4ea9-b121-bf0f21242ec1'>\n",
       "  <div id=\"c080f692-7ea2-454e-85fb-ef53e81820f5\" data-root-id=\"358ed921-e52f-4ea9-b121-bf0f21242ec1\" style=\"display: contents;\"></div>\n",
       "</div>\n",
       "<script type=\"application/javascript\">(function(root) {\n",
       "  var docs_json = {\"98193968-f4c9-4d2a-a426-73e6c62f2036\":{\"version\":\"3.7.3\",\"title\":\"Bokeh Application\",\"roots\":[{\"type\":\"object\",\"name\":\"panel.models.browser.BrowserInfo\",\"id\":\"358ed921-e52f-4ea9-b121-bf0f21242ec1\"},{\"type\":\"object\",\"name\":\"panel.models.comm_manager.CommManager\",\"id\":\"90ad5bc4-834e-40ff-9f7d-797c29ddaf13\",\"attributes\":{\"plot_id\":\"358ed921-e52f-4ea9-b121-bf0f21242ec1\",\"comm_id\":\"82a2525b195a4b6682a38231a3537737\",\"client_comm_id\":\"8be84cd872044ebe84b0ed44771881de\"}}],\"defs\":[{\"type\":\"model\",\"name\":\"ReactiveHTML1\"},{\"type\":\"model\",\"name\":\"FlexBox1\",\"properties\":[{\"name\":\"align_content\",\"kind\":\"Any\",\"default\":\"flex-start\"},{\"name\":\"align_items\",\"kind\":\"Any\",\"default\":\"flex-start\"},{\"name\":\"flex_direction\",\"kind\":\"Any\",\"default\":\"row\"},{\"name\":\"flex_wrap\",\"kind\":\"Any\",\"default\":\"wrap\"},{\"name\":\"gap\",\"kind\":\"Any\",\"default\":\"\"},{\"name\":\"justify_content\",\"kind\":\"Any\",\"default\":\"flex-start\"}]},{\"type\":\"model\",\"name\":\"FloatPanel1\",\"properties\":[{\"name\":\"config\",\"kind\":\"Any\",\"default\":{\"type\":\"map\"}},{\"name\":\"contained\",\"kind\":\"Any\",\"default\":true},{\"name\":\"position\",\"kind\":\"Any\",\"default\":\"right-top\"},{\"name\":\"offsetx\",\"kind\":\"Any\",\"default\":null},{\"name\":\"offsety\",\"kind\":\"Any\",\"default\":null},{\"name\":\"theme\",\"kind\":\"Any\",\"default\":\"primary\"},{\"name\":\"status\",\"kind\":\"Any\",\"default\":\"normalized\"}]},{\"type\":\"model\",\"name\":\"GridStack1\",\"properties\":[{\"name\":\"ncols\",\"kind\":\"Any\",\"default\":null},{\"name\":\"nrows\",\"kind\":\"Any\",\"default\":null},{\"name\":\"allow_resize\",\"kind\":\"Any\",\"default\":true},{\"name\":\"allow_drag\",\"kind\":\"Any\",\"default\":true},{\"name\":\"state\",\"kind\":\"Any\",\"default\":[]}]},{\"type\":\"model\",\"name\":\"drag1\",\"properties\":[{\"name\":\"slider_width\",\"kind\":\"Any\",\"default\":5},{\"name\":\"slider_color\",\"kind\":\"Any\",\"default\":\"black\"},{\"name\":\"value\",\"kind\":\"Any\",\"default\":50}]},{\"type\":\"model\",\"name\":\"click1\",\"properties\":[{\"name\":\"terminal_output\",\"kind\":\"Any\",\"default\":\"\"},{\"name\":\"debug_name\",\"kind\":\"Any\",\"default\":\"\"},{\"name\":\"clears\",\"kind\":\"Any\",\"default\":0}]},{\"type\":\"model\",\"name\":\"ReactiveESM1\",\"properties\":[{\"name\":\"esm_constants\",\"kind\":\"Any\",\"default\":{\"type\":\"map\"}}]},{\"type\":\"model\",\"name\":\"JSComponent1\",\"properties\":[{\"name\":\"esm_constants\",\"kind\":\"Any\",\"default\":{\"type\":\"map\"}}]},{\"type\":\"model\",\"name\":\"ReactComponent1\",\"properties\":[{\"name\":\"use_shadow_dom\",\"kind\":\"Any\",\"default\":true},{\"name\":\"esm_constants\",\"kind\":\"Any\",\"default\":{\"type\":\"map\"}}]},{\"type\":\"model\",\"name\":\"AnyWidgetComponent1\",\"properties\":[{\"name\":\"use_shadow_dom\",\"kind\":\"Any\",\"default\":true},{\"name\":\"esm_constants\",\"kind\":\"Any\",\"default\":{\"type\":\"map\"}}]},{\"type\":\"model\",\"name\":\"FastWrapper1\",\"properties\":[{\"name\":\"object\",\"kind\":\"Any\",\"default\":null},{\"name\":\"style\",\"kind\":\"Any\",\"default\":null}]},{\"type\":\"model\",\"name\":\"NotificationArea1\",\"properties\":[{\"name\":\"js_events\",\"kind\":\"Any\",\"default\":{\"type\":\"map\"}},{\"name\":\"max_notifications\",\"kind\":\"Any\",\"default\":5},{\"name\":\"notifications\",\"kind\":\"Any\",\"default\":[]},{\"name\":\"position\",\"kind\":\"Any\",\"default\":\"bottom-right\"},{\"name\":\"_clear\",\"kind\":\"Any\",\"default\":0},{\"name\":\"types\",\"kind\":\"Any\",\"default\":[{\"type\":\"map\",\"entries\":[[\"type\",\"warning\"],[\"background\",\"#ffc107\"],[\"icon\",{\"type\":\"map\",\"entries\":[[\"className\",\"fas fa-exclamation-triangle\"],[\"tagName\",\"i\"],[\"color\",\"white\"]]}]]},{\"type\":\"map\",\"entries\":[[\"type\",\"info\"],[\"background\",\"#007bff\"],[\"icon\",{\"type\":\"map\",\"entries\":[[\"className\",\"fas fa-info-circle\"],[\"tagName\",\"i\"],[\"color\",\"white\"]]}]]}]}]},{\"type\":\"model\",\"name\":\"Notification\",\"properties\":[{\"name\":\"background\",\"kind\":\"Any\",\"default\":null},{\"name\":\"duration\",\"kind\":\"Any\",\"default\":3000},{\"name\":\"icon\",\"kind\":\"Any\",\"default\":null},{\"name\":\"message\",\"kind\":\"Any\",\"default\":\"\"},{\"name\":\"notification_type\",\"kind\":\"Any\",\"default\":null},{\"name\":\"_rendered\",\"kind\":\"Any\",\"default\":false},{\"name\":\"_destroyed\",\"kind\":\"Any\",\"default\":false}]},{\"type\":\"model\",\"name\":\"TemplateActions1\",\"properties\":[{\"name\":\"open_modal\",\"kind\":\"Any\",\"default\":0},{\"name\":\"close_modal\",\"kind\":\"Any\",\"default\":0}]},{\"type\":\"model\",\"name\":\"BootstrapTemplateActions1\",\"properties\":[{\"name\":\"open_modal\",\"kind\":\"Any\",\"default\":0},{\"name\":\"close_modal\",\"kind\":\"Any\",\"default\":0}]},{\"type\":\"model\",\"name\":\"TemplateEditor1\",\"properties\":[{\"name\":\"layout\",\"kind\":\"Any\",\"default\":[]}]},{\"type\":\"model\",\"name\":\"MaterialTemplateActions1\",\"properties\":[{\"name\":\"open_modal\",\"kind\":\"Any\",\"default\":0},{\"name\":\"close_modal\",\"kind\":\"Any\",\"default\":0}]},{\"type\":\"model\",\"name\":\"request_value1\",\"properties\":[{\"name\":\"fill\",\"kind\":\"Any\",\"default\":\"none\"},{\"name\":\"_synced\",\"kind\":\"Any\",\"default\":null},{\"name\":\"_request_sync\",\"kind\":\"Any\",\"default\":0}]},{\"type\":\"model\",\"name\":\"holoviews.plotting.bokeh.raster.HoverModel\",\"properties\":[{\"name\":\"xy\",\"kind\":\"Any\",\"default\":null},{\"name\":\"data\",\"kind\":\"Any\",\"default\":null}]}]}};\n",
       "  var render_items = [{\"docid\":\"98193968-f4c9-4d2a-a426-73e6c62f2036\",\"roots\":{\"358ed921-e52f-4ea9-b121-bf0f21242ec1\":\"c080f692-7ea2-454e-85fb-ef53e81820f5\"},\"root_ids\":[\"358ed921-e52f-4ea9-b121-bf0f21242ec1\"]}];\n",
       "  var docs = Object.values(docs_json)\n",
       "  if (!docs) {\n",
       "    return\n",
       "  }\n",
       "  const py_version = docs[0].version.replace('rc', '-rc.').replace('.dev', '-dev.')\n",
       "  async function embed_document(root) {\n",
       "    var Bokeh = get_bokeh(root)\n",
       "    await Bokeh.embed.embed_items_notebook(docs_json, render_items);\n",
       "    for (const render_item of render_items) {\n",
       "      for (const root_id of render_item.root_ids) {\n",
       "\tconst id_el = document.getElementById(root_id)\n",
       "\tif (id_el.children.length && id_el.children[0].hasAttribute('data-root-id')) {\n",
       "\t  const root_el = id_el.children[0]\n",
       "\t  root_el.id = root_el.id + '-rendered'\n",
       "\t  for (const child of root_el.children) {\n",
       "            // Ensure JupyterLab does not capture keyboard shortcuts\n",
       "            // see: https://jupyterlab.readthedocs.io/en/4.1.x/extension/notebook.html#keyboard-interaction-model\n",
       "\t    child.setAttribute('data-lm-suppress-shortcuts', 'true')\n",
       "\t  }\n",
       "\t}\n",
       "      }\n",
       "    }\n",
       "  }\n",
       "  function get_bokeh(root) {\n",
       "    if (root.Bokeh === undefined) {\n",
       "      return null\n",
       "    } else if (root.Bokeh.version !== py_version) {\n",
       "      if (root.Bokeh.versions === undefined || !root.Bokeh.versions.has(py_version)) {\n",
       "\treturn null\n",
       "      }\n",
       "      return root.Bokeh.versions.get(py_version);\n",
       "    } else if (root.Bokeh.version === py_version) {\n",
       "      return root.Bokeh\n",
       "    }\n",
       "    return null\n",
       "  }\n",
       "  function is_loaded(root) {\n",
       "    var Bokeh = get_bokeh(root)\n",
       "    return (Bokeh != null && Bokeh.Panel !== undefined)\n",
       "  }\n",
       "  if (is_loaded(root)) {\n",
       "    embed_document(root);\n",
       "  } else {\n",
       "    var attempts = 0;\n",
       "    var timer = setInterval(function(root) {\n",
       "      if (is_loaded(root)) {\n",
       "        clearInterval(timer);\n",
       "        embed_document(root);\n",
       "      } else if (document.readyState == \"complete\") {\n",
       "        attempts++;\n",
       "        if (attempts > 200) {\n",
       "          clearInterval(timer);\n",
       "\t  var Bokeh = get_bokeh(root)\n",
       "\t  if (Bokeh == null || Bokeh.Panel == null) {\n",
       "            console.warn(\"Panel: ERROR: Unable to run Panel code because Bokeh or Panel library is missing\");\n",
       "\t  } else {\n",
       "\t    console.warn(\"Panel: WARNING: Attempting to render but not all required libraries could be resolved.\")\n",
       "\t    embed_document(root)\n",
       "\t  }\n",
       "        }\n",
       "      }\n",
       "    }, 25, root)\n",
       "  }\n",
       "})(window);</script>"
      ]
     },
     "metadata": {
      "application/vnd.holoviews_exec.v0+json": {
       "id": "358ed921-e52f-4ea9-b121-bf0f21242ec1"
      }
     },
     "output_type": "display_data"
    }
   ],
   "source": [
    "import logging\n",
    "import os\n",
    "\n",
    "import pypsa\n",
    "import yaml\n",
    "import pandas as pd\n",
    "import geopandas as gpd\n",
    "import geoviews as gv\n",
    "import hvplot.pandas\n",
    "import numpy as np\n",
    "import scipy as sp\n",
    "import networkx as nx\n",
    "import matplotlib as plt\n",
    "import holoviews as hv\n",
    "\n",
    "from scipy.sparse import csgraph\n",
    "from itertools import product\n",
    "\n",
    "from shapely.geometry import Point, LineString\n",
    "import shapely, shapely.prepared\n",
    "from shapely.wkt import loads\n",
    "import shapely\n",
    "import warnings\n",
    "from shapely.errors import ShapelyDeprecationWarning\n",
    "warnings.filterwarnings(\"ignore\", category=ShapelyDeprecationWarning) # Ignore Shapely warnings\n",
    "\n",
    "logger = logging.getLogger(__name__)\n",
    "\n",
    "pd.set_option(\"display.max_columns\", None)\n",
    "pd.set_option(\"display.max_colwidth\", 70)"
   ]
  },
  {
   "attachments": {},
   "cell_type": "markdown",
   "metadata": {},
   "source": [
    "## Plot network of download_osm_data\n",
    "\n",
    "download_osm_data is the script that downloads the raw OSM data\n",
    "In particular, the main outputs of the script, being the substations and lines data, are loaded and then plotted.\n",
    "- `df_substations_osm_raw`: is the geodataframe related to the substations\n",
    "- `df_lines_osm_raw`: is the geodataframe related to the lines\n",
    "\n",
    "The package `hvplot` enables to zoom in the image and enables to better investigate the result of the analysis.\n",
    "Therefore, it has been used as detailed below."
   ]
  },
  {
   "cell_type": "code",
   "execution_count": 12,
   "metadata": {},
   "outputs": [
    {
     "name": "stderr",
     "output_type": "stream",
     "text": [
      "WARNING:pyogrio._io:Skipping field refs: unsupported OGR type: 13\n",
      "WARNING:pyogrio._io:Skipping field refs: unsupported OGR type: 13\n",
      "c:\\Users\\Administrator\\miniconda3\\envs\\pypsa-earth\\Lib\\site-packages\\pyogrio\\raw.py:198: RuntimeWarning: Several features with id = 224381271 have been found. Altering it to be unique. This warning will not be emitted anymore for this layer\n",
      "  return ogr_read(\n"
     ]
    },
    {
     "ename": "ValueError",
     "evalue": "The GeopandasInterface can only read dataframes which share a common geometry type",
     "output_type": "error",
     "traceback": [
      "\u001b[31m---------------------------------------------------------------------------\u001b[39m",
      "\u001b[31mValueError\u001b[39m                                Traceback (most recent call last)",
      "\u001b[36mCell\u001b[39m\u001b[36m \u001b[39m\u001b[32mIn[12]\u001b[39m\u001b[32m, line 7\u001b[39m\n\u001b[32m      4\u001b[39m df_lines_osm_raw = gpd.read_file(lines_ODD_path)\n\u001b[32m      6\u001b[39m \u001b[38;5;66;03m# hvplot\u001b[39;00m\n\u001b[32m----> \u001b[39m\u001b[32m7\u001b[39m hhosmraw = \u001b[43mdf_substations_osm_raw\u001b[49m\u001b[43m.\u001b[49m\u001b[43mhvplot\u001b[49m\u001b[43m(\u001b[49m\n\u001b[32m      8\u001b[39m \u001b[43m    \u001b[49m\u001b[43mgeo\u001b[49m\u001b[43m=\u001b[49m\u001b[38;5;28;43;01mTrue\u001b[39;49;00m\u001b[43m,\u001b[49m\n\u001b[32m      9\u001b[39m \u001b[43m    \u001b[49m\u001b[43msize\u001b[49m\u001b[43m=\u001b[49m\u001b[32;43m10\u001b[39;49m\u001b[43m,\u001b[49m\u001b[43m  \u001b[49m\u001b[38;5;66;43;03m# buses[\"tag_area\"]**(0.5)/10,\u001b[39;49;00m\n\u001b[32m     10\u001b[39m \u001b[43m    \u001b[49m\u001b[43mframe_height\u001b[49m\u001b[43m=\u001b[49m\u001b[32;43m750\u001b[39;49m\u001b[43m,\u001b[49m\n\u001b[32m     11\u001b[39m \u001b[43m    \u001b[49m\u001b[43malpha\u001b[49m\u001b[43m=\u001b[49m\u001b[32;43m0.4\u001b[39;49m\u001b[43m,\u001b[49m\n\u001b[32m     12\u001b[39m \u001b[43m    \u001b[49m\u001b[43mtiles\u001b[49m\u001b[43m=\u001b[49m\u001b[33;43m\"\u001b[39;49m\u001b[33;43mCartoLight\u001b[39;49m\u001b[33;43m\"\u001b[39;49m\u001b[43m,\u001b[49m\n\u001b[32m     13\u001b[39m \u001b[43m    \u001b[49m\u001b[43mcolor\u001b[49m\u001b[43m=\u001b[49m\u001b[33;43m\"\u001b[39;49m\u001b[33;43morange\u001b[39;49m\u001b[33;43m\"\u001b[39;49m\u001b[43m,\u001b[49m\n\u001b[32m     14\u001b[39m \u001b[43m)\u001b[49m * df_lines_osm_raw.hvplot(geo=\u001b[38;5;28;01mTrue\u001b[39;00m, alpha=\u001b[32m0.4\u001b[39m,).opts(\n\u001b[32m     15\u001b[39m     active_tools=[\u001b[33m\"\u001b[39m\u001b[33mpan\u001b[39m\u001b[33m\"\u001b[39m, \u001b[33m\"\u001b[39m\u001b[33mwheel_zoom\u001b[39m\u001b[33m\"\u001b[39m]\n\u001b[32m     16\u001b[39m )\n\u001b[32m     17\u001b[39m \u001b[38;5;66;03m# display (hhosmraw)     # show plot in the notebook\u001b[39;00m\n\u001b[32m     18\u001b[39m hv.save(hhosmraw, \u001b[33m\"\u001b[39m\u001b[33mdocumentation/osm_raw_network.html\u001b[39m\u001b[33m\"\u001b[39m); \u001b[38;5;66;03m# save plot in the path here\u001b[39;00m\n",
      "\u001b[36mFile \u001b[39m\u001b[32mc:\\Users\\Administrator\\miniconda3\\envs\\pypsa-earth\\Lib\\site-packages\\hvplot\\plotting\\core.py:95\u001b[39m, in \u001b[36mhvPlotBase.__call__\u001b[39m\u001b[34m(self, x, y, kind, **kwds)\u001b[39m\n\u001b[32m     92\u001b[39m         plot = \u001b[38;5;28mself\u001b[39m._get_converter(x, y, kind, **kwds)(kind, x, y)\n\u001b[32m     93\u001b[39m         \u001b[38;5;28;01mreturn\u001b[39;00m pn.panel(plot, **panel_dict)\n\u001b[32m---> \u001b[39m\u001b[32m95\u001b[39m \u001b[38;5;28;01mreturn\u001b[39;00m \u001b[38;5;28;43mself\u001b[39;49m\u001b[43m.\u001b[49m\u001b[43m_get_converter\u001b[49m\u001b[43m(\u001b[49m\u001b[43mx\u001b[49m\u001b[43m,\u001b[49m\u001b[43m \u001b[49m\u001b[43my\u001b[49m\u001b[43m,\u001b[49m\u001b[43m \u001b[49m\u001b[43mkind\u001b[49m\u001b[43m,\u001b[49m\u001b[43m \u001b[49m\u001b[43m*\u001b[49m\u001b[43m*\u001b[49m\u001b[43mkwds\u001b[49m\u001b[43m)\u001b[49m(kind, x, y)\n",
      "\u001b[36mFile \u001b[39m\u001b[32mc:\\Users\\Administrator\\miniconda3\\envs\\pypsa-earth\\Lib\\site-packages\\hvplot\\plotting\\core.py:102\u001b[39m, in \u001b[36mhvPlotBase._get_converter\u001b[39m\u001b[34m(self, x, y, kind, **kwds)\u001b[39m\n\u001b[32m    100\u001b[39m y = y \u001b[38;5;129;01mor\u001b[39;00m params.pop(\u001b[33m'\u001b[39m\u001b[33my\u001b[39m\u001b[33m'\u001b[39m, \u001b[38;5;28;01mNone\u001b[39;00m)\n\u001b[32m    101\u001b[39m kind = kind \u001b[38;5;129;01mor\u001b[39;00m params.pop(\u001b[33m'\u001b[39m\u001b[33mkind\u001b[39m\u001b[33m'\u001b[39m, \u001b[38;5;28;01mNone\u001b[39;00m)\n\u001b[32m--> \u001b[39m\u001b[32m102\u001b[39m \u001b[38;5;28;01mreturn\u001b[39;00m \u001b[43mHoloViewsConverter\u001b[49m\u001b[43m(\u001b[49m\u001b[38;5;28;43mself\u001b[39;49m\u001b[43m.\u001b[49m\u001b[43m_data\u001b[49m\u001b[43m,\u001b[49m\u001b[43m \u001b[49m\u001b[43mx\u001b[49m\u001b[43m,\u001b[49m\u001b[43m \u001b[49m\u001b[43my\u001b[49m\u001b[43m,\u001b[49m\u001b[43m \u001b[49m\u001b[43mkind\u001b[49m\u001b[43m=\u001b[49m\u001b[43mkind\u001b[49m\u001b[43m,\u001b[49m\u001b[43m \u001b[49m\u001b[43m*\u001b[49m\u001b[43m*\u001b[49m\u001b[43mparams\u001b[49m\u001b[43m)\u001b[49m\n",
      "\u001b[36mFile \u001b[39m\u001b[32mc:\\Users\\Administrator\\miniconda3\\envs\\pypsa-earth\\Lib\\site-packages\\hvplot\\converter.py:811\u001b[39m, in \u001b[36mHoloViewsConverter.__init__\u001b[39m\u001b[34m(self, data, x, y, kind, by, use_index, group_label, value_label, backlog, persist, use_dask, crs, fields, groupby, dynamic, grid, legend, rot, title, xlim, ylim, clim, robust, symmetric, logx, logy, loglog, hover, hover_cols, hover_formatters, hover_tooltips, subplots, label, invert, stacked, colorbar, cticks, datashade, rasterize, downsample, resample_when, row, col, debug, framewise, aggregator, projection, global_extent, geo, precompute, flip_xaxis, flip_yaxis, dynspread, x_sampling, y_sampling, pixel_ratio, project, tools, attr_labels, coastline, tiles, tiles_opts, sort_date, check_symmetric_max, transforms, stream, cnorm, features, rescale_discrete_levels, autorange, subcoordinate_y, **kwds)\u001b[39m\n\u001b[32m    809\u001b[39m \u001b[38;5;28mself\u001b[39m.value_label = value_label\n\u001b[32m    810\u001b[39m \u001b[38;5;28mself\u001b[39m.label = label\n\u001b[32m--> \u001b[39m\u001b[32m811\u001b[39m \u001b[38;5;28;43mself\u001b[39;49m\u001b[43m.\u001b[49m\u001b[43m_process_data\u001b[49m\u001b[43m(\u001b[49m\n\u001b[32m    812\u001b[39m \u001b[43m    \u001b[49m\u001b[43mkind\u001b[49m\u001b[43m,\u001b[49m\n\u001b[32m    813\u001b[39m \u001b[43m    \u001b[49m\u001b[43mdata\u001b[49m\u001b[43m,\u001b[49m\n\u001b[32m    814\u001b[39m \u001b[43m    \u001b[49m\u001b[43mx\u001b[49m\u001b[43m,\u001b[49m\n\u001b[32m    815\u001b[39m \u001b[43m    \u001b[49m\u001b[43my\u001b[49m\u001b[43m,\u001b[49m\n\u001b[32m    816\u001b[39m \u001b[43m    \u001b[49m\u001b[43mby\u001b[49m\u001b[43m,\u001b[49m\n\u001b[32m    817\u001b[39m \u001b[43m    \u001b[49m\u001b[43mgroupby\u001b[49m\u001b[43m,\u001b[49m\n\u001b[32m    818\u001b[39m \u001b[43m    \u001b[49m\u001b[43mrow\u001b[49m\u001b[43m,\u001b[49m\n\u001b[32m    819\u001b[39m \u001b[43m    \u001b[49m\u001b[43mcol\u001b[49m\u001b[43m,\u001b[49m\n\u001b[32m    820\u001b[39m \u001b[43m    \u001b[49m\u001b[43muse_dask\u001b[49m\u001b[43m,\u001b[49m\n\u001b[32m    821\u001b[39m \u001b[43m    \u001b[49m\u001b[43mpersist\u001b[49m\u001b[43m,\u001b[49m\n\u001b[32m    822\u001b[39m \u001b[43m    \u001b[49m\u001b[43mbacklog\u001b[49m\u001b[43m,\u001b[49m\n\u001b[32m    823\u001b[39m \u001b[43m    \u001b[49m\u001b[43mlabel\u001b[49m\u001b[43m,\u001b[49m\n\u001b[32m    824\u001b[39m \u001b[43m    \u001b[49m\u001b[43mgroup_label\u001b[49m\u001b[43m,\u001b[49m\n\u001b[32m    825\u001b[39m \u001b[43m    \u001b[49m\u001b[43mvalue_label\u001b[49m\u001b[43m,\u001b[49m\n\u001b[32m    826\u001b[39m \u001b[43m    \u001b[49m\u001b[43mhover_cols\u001b[49m\u001b[43m,\u001b[49m\n\u001b[32m    827\u001b[39m \u001b[43m    \u001b[49m\u001b[43mattr_labels\u001b[49m\u001b[43m,\u001b[49m\n\u001b[32m    828\u001b[39m \u001b[43m    \u001b[49m\u001b[43mtransforms\u001b[49m\u001b[43m,\u001b[49m\n\u001b[32m    829\u001b[39m \u001b[43m    \u001b[49m\u001b[43mstream\u001b[49m\u001b[43m,\u001b[49m\n\u001b[32m    830\u001b[39m \u001b[43m    \u001b[49m\u001b[43mrobust\u001b[49m\u001b[43m,\u001b[49m\n\u001b[32m    831\u001b[39m \u001b[43m    \u001b[49m\u001b[43mkwds\u001b[49m\u001b[43m,\u001b[49m\n\u001b[32m    832\u001b[39m \u001b[43m\u001b[49m\u001b[43m)\u001b[49m\n\u001b[32m    834\u001b[39m \u001b[38;5;28mself\u001b[39m.dynamic = dynamic\n\u001b[32m    835\u001b[39m \u001b[38;5;28mself\u001b[39m.geo = \u001b[38;5;28many\u001b[39m([geo, crs, global_extent, projection, project, coastline, features])\n",
      "\u001b[36mFile \u001b[39m\u001b[32mc:\\Users\\Administrator\\miniconda3\\envs\\pypsa-earth\\Lib\\site-packages\\hvplot\\converter.py:1253\u001b[39m, in \u001b[36mHoloViewsConverter._process_data\u001b[39m\u001b[34m(self, kind, data, x, y, by, groupby, row, col, use_dask, persist, backlog, label, group_label, value_label, hover_cols, attr_labels, transforms, stream, robust, kwds)\u001b[39m\n\u001b[32m   1247\u001b[39m     geom_types = [\n\u001b[32m   1248\u001b[39m         \u001b[38;5;28mtype\u001b[39m(data.geometry.dtype)\n\u001b[32m   1249\u001b[39m         .\u001b[34m__name__\u001b[39m.replace(\u001b[33m'\u001b[39m\u001b[33mMulti\u001b[39m\u001b[33m'\u001b[39m, \u001b[33m'\u001b[39m\u001b[33m'\u001b[39m)\n\u001b[32m   1250\u001b[39m         .replace(\u001b[33m'\u001b[39m\u001b[33mDtype\u001b[39m\u001b[33m'\u001b[39m, \u001b[33m'\u001b[39m\u001b[33m'\u001b[39m)\n\u001b[32m   1251\u001b[39m     ]\n\u001b[32m   1252\u001b[39m \u001b[38;5;28;01mif\u001b[39;00m \u001b[38;5;28mlen\u001b[39m(geom_types) > \u001b[32m1\u001b[39m:\n\u001b[32m-> \u001b[39m\u001b[32m1253\u001b[39m     \u001b[38;5;28;01mraise\u001b[39;00m \u001b[38;5;167;01mValueError\u001b[39;00m(\n\u001b[32m   1254\u001b[39m         \u001b[33m'\u001b[39m\u001b[33mThe GeopandasInterface can only read dataframes which \u001b[39m\u001b[33m'\u001b[39m\n\u001b[32m   1255\u001b[39m         \u001b[33m'\u001b[39m\u001b[33mshare a common geometry type\u001b[39m\u001b[33m'\u001b[39m\n\u001b[32m   1256\u001b[39m     )\n\u001b[32m   1257\u001b[39m geom_type = \u001b[38;5;28mlist\u001b[39m(geom_types)[\u001b[32m0\u001b[39m]\n\u001b[32m   1258\u001b[39m \u001b[38;5;28;01mif\u001b[39;00m geom_type == \u001b[33m'\u001b[39m\u001b[33mPoint\u001b[39m\u001b[33m'\u001b[39m:\n",
      "\u001b[31mValueError\u001b[39m: The GeopandasInterface can only read dataframes which share a common geometry type"
     ]
    }
   ],
   "source": [
    "# load substation geodataframe\n",
    "df_substations_osm_raw = gpd.read_file(substations_ODD_path)\n",
    "# load lines geodataframe\n",
    "df_lines_osm_raw = gpd.read_file(lines_ODD_path)\n",
    "\n",
    "# hvplot\n",
    "hhosmraw = df_substations_osm_raw.hvplot(\n",
    "    geo=True,\n",
    "    size=10,  # buses[\"tag_area\"]**(0.5)/10,\n",
    "    frame_height=750,\n",
    "    alpha=0.4,\n",
    "    tiles=\"CartoLight\",\n",
    "    color=\"orange\",\n",
    ") * df_lines_osm_raw.hvplot(geo=True, alpha=0.4,).opts(\n",
    "    active_tools=[\"pan\", \"wheel_zoom\"]\n",
    ")\n",
    "# display (hhosmraw)     # show plot in the notebook\n",
    "hv.save(hhosmraw, \"documentation/osm_raw_network.html\"); # save plot in the path here"
   ]
  },
  {
   "attachments": {},
   "cell_type": "markdown",
   "metadata": {},
   "source": [
    "## Plot network of clean_osm_data\n",
    "\n",
    "clean_osm_data is the script that loads the raw OSM data and performs simple cleaning, such as renaming columns to adhere with PyPSA format, cleaning Nones/NaNs, etc.\n",
    "In particular, the main outputs of the script, being the substations and lines data, are loaded and then plotted.\n",
    "- `df_substations_osm_clean`: is the geodataframe related to the substations\n",
    "- `df_lines_osm_clean`: is the geodataframe related to the lines\n",
    "\n",
    "The package `hvplot` enables to zoom in the image and enables to better investigate the result of the analysis.\n",
    "Therefore, it has been used as detailed below."
   ]
  },
  {
   "cell_type": "code",
   "execution_count": 9,
   "metadata": {},
   "outputs": [
    {
     "name": "stderr",
     "output_type": "stream",
     "text": [
      "WARNING:bokeh.core.validation.check:W-1005 (FIXED_SIZING_MODE): 'fixed' sizing mode requires width and height to be set: figure(id='45bc0a0e-b946-4cef-a17b-0cdb2f1131c2', ...)\n"
     ]
    }
   ],
   "source": [
    "# load substation geodataframe\n",
    "df_substations_osm_clean = gpd.read_file(substations_ODC_path)\n",
    "# load lines geodataframe\n",
    "df_lines_osm_clean = gpd.read_file(lines_ODC_path)\n",
    "\n",
    "# hvplot\n",
    "hhosm = df_substations_osm_clean.hvplot(\n",
    "    geo=True,\n",
    "    size=10,  # buses[\"tag_area\"]**(0.5)/10,\n",
    "    frame_height=750,\n",
    "    alpha=0.4,\n",
    "    tiles=\"CartoLight\",\n",
    "    color=\"orange\",\n",
    "    # hover_cols=['bus_id'],\n",
    ") * df_lines_osm_clean.hvplot(\n",
    "    geo=True,\n",
    "    alpha=0.4,\n",
    "    # hover_cols=['line_id'],\n",
    ").opts(\n",
    "    active_tools=[\"pan\", \"wheel_zoom\"]\n",
    ")\n",
    "# display (hhosmraw)     # show plot in the notebook\n",
    "hv.save(hhosm, \"documentation/osm_clean_network.html\"); # save plot in the path here"
   ]
  },
  {
   "attachments": {},
   "cell_type": "markdown",
   "metadata": {},
   "source": [
    "## Plot network of osm_build_network\n",
    "\n",
    "osm_build_network is the script that loads the cleaned OSM data and performs some refinings to prepare the input data that are loaded by the build_base_network\n",
    "In particular, the main outputs of the script, being the substations and lines data, are loaded and then plotted.\n",
    "- `df_substations_osm_build`: is the geodataframe related to the substations\n",
    "- `df_lines_osm_build`: is the geodataframe related to the lines\n",
    "\n",
    "The package `hvplot` enables to zoom in the image and enables to better investigate the result of the analysis.\n",
    "Therefore, it has been used as detailed below."
   ]
  },
  {
   "cell_type": "code",
   "execution_count": 10,
   "metadata": {},
   "outputs": [
    {
     "name": "stderr",
     "output_type": "stream",
     "text": [
      "WARNING:bokeh.core.validation.check:W-1005 (FIXED_SIZING_MODE): 'fixed' sizing mode requires width and height to be set: figure(id='ded91b4d-db11-4cf0-8e93-c5b1e1c915a0', ...)\n"
     ]
    }
   ],
   "source": [
    "# load substations\n",
    "substations_OBN = gpd.read_file(\n",
    "    substations_OBN_path, GEOM_POSSIBLE_NAMES=\"geometry\", KEEP_GEOM_COLUMNS=\"NO\"\n",
    ")\n",
    "substations_OBN[\"geometry\"] = gpd.points_from_xy(\n",
    "    pd.to_numeric(substations_OBN.lon, downcast=\"float\"),\n",
    "    pd.to_numeric(substations_OBN.lat, downcast=\"float\"),\n",
    ")\n",
    "substations_OBN = substations_OBN.set_crs(epsg=4326, inplace=True)\n",
    "# load lines\n",
    "lines_OBN = gpd.read_file(\n",
    "    lines_OBN_path, GEOM_POSSIBLE_NAMES=\"geometry\", KEEP_GEOM_COLUMNS=\"NO\"\n",
    ").set_crs(epsg=4326, inplace=True)\n",
    "\n",
    "\n",
    "# hvplot\n",
    "hho = substations_OBN.hvplot(\n",
    "    geo=True,\n",
    "    size=10,  # buses[\"tag_area\"]**(0.5)/10,\n",
    "    frame_height=750,\n",
    "    alpha=0.4,\n",
    "    tiles=\"CartoLight\",\n",
    "    color=\"orange\",\n",
    "    # hover_cols=['bus_id']\n",
    ") * lines_OBN.hvplot(\n",
    "    geo=True,\n",
    "    alpha=0.4,\n",
    "    # hover_cols='line_id'\n",
    ").opts(\n",
    "    active_tools=[\"pan\", \"wheel_zoom\"]\n",
    ")\n",
    "# display(hho)\n",
    "hv.save(hho, \"documentation/osm_build_network.html\");"
   ]
  },
  {
   "attachments": {},
   "cell_type": "markdown",
   "metadata": {},
   "source": [
    "## Plot network of base_network\n",
    "\n",
    "`base_network` is the script that loads the cleaned OSM data, thus the map shown above, and prepare a preliminary PyPSA model that is later used by all scripts downstream the workflow.\n",
    "In particular, in order to compare the network structure, the substations and lines datasets are loaded\n",
    "- `n_b` is the main PyPSA network model related to `base_network`\n",
    "- `n_b.buses` is the geodataframe related to the substations\n",
    "- `n_b.lines` is the geodataframe related to the lines\n",
    "\n",
    "The package `hvplot` is used to show the model."
   ]
  },
  {
   "cell_type": "code",
   "execution_count": 11,
   "metadata": {},
   "outputs": [
    {
     "name": "stderr",
     "output_type": "stream",
     "text": [
      "WARNING:pypsa.io:The following Transformer have buses which are not defined:\n",
      "Index(['transf_2_0', 'transf_5_0', 'transf_6_0', 'transf_7_0', 'transf_8_0',\n",
      "       'transf_10_0', 'transf_11_0', 'transf_12_0', 'transf_13_0',\n",
      "       'transf_14_0', 'transf_15_0', 'transf_17_0', 'transf_18_0',\n",
      "       'transf_19_0', 'transf_22_0', 'transf_25_0', 'transf_27_0',\n",
      "       'transf_28_0', 'transf_30_0', 'transf_33_0', 'transf_34_0',\n",
      "       'transf_39_0', 'transf_41_0', 'transf_45_0', 'transf_47_0',\n",
      "       'transf_48_0', 'transf_49_0', 'transf_52_0', 'transf_54_0',\n",
      "       'transf_57_0', 'transf_60_0', 'transf_65_0', 'transf_70_0',\n",
      "       'transf_73_0', 'transf_74_0', 'transf_77_0', 'transf_78_0',\n",
      "       'transf_83_0', 'transf_84_0', 'transf_89_0', 'transf_92_0',\n",
      "       'transf_93_0', 'transf_94_0', 'transf_98_0', 'transf_105_0',\n",
      "       'transf_111_0', 'transf_114_0', 'transf_134_0', 'transf_145_0',\n",
      "       'transf_148_0', 'transf_157_0', 'transf_173_0', 'transf_186_0'],\n",
      "      dtype='object', name='name')\n",
      "WARNING:pypsa.io:The following Transformer have buses which are not defined:\n",
      "Index(['transf_2_0', 'transf_5_0', 'transf_6_0', 'transf_7_0', 'transf_8_0',\n",
      "       'transf_10_0', 'transf_11_0', 'transf_12_0', 'transf_13_0',\n",
      "       'transf_14_0', 'transf_15_0', 'transf_17_0', 'transf_18_0',\n",
      "       'transf_19_0', 'transf_22_0', 'transf_25_0', 'transf_27_0',\n",
      "       'transf_28_0', 'transf_30_0', 'transf_33_0', 'transf_34_0',\n",
      "       'transf_39_0', 'transf_41_0', 'transf_45_0', 'transf_47_0',\n",
      "       'transf_48_0', 'transf_49_0', 'transf_52_0', 'transf_54_0',\n",
      "       'transf_57_0', 'transf_60_0', 'transf_65_0', 'transf_70_0',\n",
      "       'transf_73_0', 'transf_74_0', 'transf_77_0', 'transf_78_0',\n",
      "       'transf_83_0', 'transf_84_0', 'transf_89_0', 'transf_92_0',\n",
      "       'transf_93_0', 'transf_94_0', 'transf_98_0', 'transf_105_0',\n",
      "       'transf_111_0', 'transf_114_0', 'transf_134_0', 'transf_145_0',\n",
      "       'transf_148_0', 'transf_157_0', 'transf_173_0', 'transf_186_0'],\n",
      "      dtype='object', name='name')\n",
      "WARNING:pypsa.io:The following Transformer have buses which are not defined:\n",
      "Index(['transf_2_0', 'transf_5_0', 'transf_6_0', 'transf_7_0', 'transf_8_0',\n",
      "       'transf_10_0', 'transf_11_0', 'transf_12_0', 'transf_13_0',\n",
      "       'transf_14_0', 'transf_15_0', 'transf_17_0', 'transf_18_0',\n",
      "       'transf_19_0', 'transf_22_0', 'transf_25_0', 'transf_27_0',\n",
      "       'transf_28_0', 'transf_30_0', 'transf_33_0', 'transf_34_0',\n",
      "       'transf_39_0', 'transf_41_0', 'transf_45_0', 'transf_47_0',\n",
      "       'transf_48_0', 'transf_49_0', 'transf_52_0', 'transf_54_0',\n",
      "       'transf_57_0', 'transf_60_0', 'transf_65_0', 'transf_70_0',\n",
      "       'transf_73_0', 'transf_74_0', 'transf_77_0', 'transf_78_0',\n",
      "       'transf_83_0', 'transf_84_0', 'transf_89_0', 'transf_92_0',\n",
      "       'transf_93_0', 'transf_94_0', 'transf_98_0', 'transf_105_0',\n",
      "       'transf_111_0', 'transf_114_0', 'transf_134_0', 'transf_145_0',\n",
      "       'transf_148_0', 'transf_157_0', 'transf_173_0', 'transf_186_0'],\n",
      "      dtype='object', name='name')\n",
      "WARNING:pypsa.io:The following Transformer have buses which are not defined:\n",
      "Index(['transf_2_0', 'transf_5_0', 'transf_6_0', 'transf_7_0', 'transf_8_0',\n",
      "       'transf_10_0', 'transf_11_0', 'transf_12_0', 'transf_13_0',\n",
      "       'transf_14_0', 'transf_15_0', 'transf_17_0', 'transf_18_0',\n",
      "       'transf_19_0', 'transf_22_0', 'transf_25_0', 'transf_27_0',\n",
      "       'transf_28_0', 'transf_30_0', 'transf_33_0', 'transf_34_0',\n",
      "       'transf_39_0', 'transf_41_0', 'transf_45_0', 'transf_47_0',\n",
      "       'transf_48_0', 'transf_49_0', 'transf_52_0', 'transf_54_0',\n",
      "       'transf_57_0', 'transf_60_0', 'transf_65_0', 'transf_70_0',\n",
      "       'transf_73_0', 'transf_74_0', 'transf_77_0', 'transf_78_0',\n",
      "       'transf_83_0', 'transf_84_0', 'transf_89_0', 'transf_92_0',\n",
      "       'transf_93_0', 'transf_94_0', 'transf_98_0', 'transf_105_0',\n",
      "       'transf_111_0', 'transf_114_0', 'transf_134_0', 'transf_145_0',\n",
      "       'transf_148_0', 'transf_157_0', 'transf_173_0', 'transf_186_0'],\n",
      "      dtype='object', name='name')\n",
      "WARNING:pypsa.io:The following Transformer have buses which are not defined:\n",
      "Index(['transf_2_0', 'transf_5_0', 'transf_6_0', 'transf_7_0', 'transf_8_0',\n",
      "       'transf_10_0', 'transf_11_0', 'transf_12_0', 'transf_13_0',\n",
      "       'transf_14_0', 'transf_15_0', 'transf_17_0', 'transf_18_0',\n",
      "       'transf_19_0', 'transf_22_0', 'transf_25_0', 'transf_27_0',\n",
      "       'transf_28_0', 'transf_30_0', 'transf_33_0', 'transf_34_0',\n",
      "       'transf_39_0', 'transf_41_0', 'transf_45_0', 'transf_47_0',\n",
      "       'transf_48_0', 'transf_49_0', 'transf_52_0', 'transf_54_0',\n",
      "       'transf_57_0', 'transf_60_0', 'transf_65_0', 'transf_70_0',\n",
      "       'transf_73_0', 'transf_74_0', 'transf_77_0', 'transf_78_0',\n",
      "       'transf_83_0', 'transf_84_0', 'transf_89_0', 'transf_92_0',\n",
      "       'transf_93_0', 'transf_94_0', 'transf_98_0', 'transf_105_0',\n",
      "       'transf_111_0', 'transf_114_0', 'transf_134_0', 'transf_145_0',\n",
      "       'transf_148_0', 'transf_157_0', 'transf_173_0', 'transf_186_0'],\n",
      "      dtype='object', name='name')\n",
      "WARNING:pypsa.io:The following Transformer have buses which are not defined:\n",
      "Index(['transf_2_0', 'transf_5_0', 'transf_6_0', 'transf_7_0', 'transf_8_0',\n",
      "       'transf_10_0', 'transf_11_0', 'transf_12_0', 'transf_13_0',\n",
      "       'transf_14_0', 'transf_15_0', 'transf_17_0', 'transf_18_0',\n",
      "       'transf_19_0', 'transf_22_0', 'transf_25_0', 'transf_27_0',\n",
      "       'transf_28_0', 'transf_30_0', 'transf_33_0', 'transf_34_0',\n",
      "       'transf_39_0', 'transf_41_0', 'transf_45_0', 'transf_47_0',\n",
      "       'transf_48_0', 'transf_49_0', 'transf_52_0', 'transf_54_0',\n",
      "       'transf_57_0', 'transf_60_0', 'transf_65_0', 'transf_70_0',\n",
      "       'transf_73_0', 'transf_74_0', 'transf_77_0', 'transf_78_0',\n",
      "       'transf_83_0', 'transf_84_0', 'transf_89_0', 'transf_92_0',\n",
      "       'transf_93_0', 'transf_94_0', 'transf_98_0', 'transf_105_0',\n",
      "       'transf_111_0', 'transf_114_0', 'transf_134_0', 'transf_145_0',\n",
      "       'transf_148_0', 'transf_157_0', 'transf_173_0', 'transf_186_0'],\n",
      "      dtype='object', name='name')\n",
      "INFO:pypsa.io:Imported network base.nc has buses, lines, transformers\n",
      "WARNING:bokeh.core.validation.check:W-1005 (FIXED_SIZING_MODE): 'fixed' sizing mode requires width and height to be set: figure(id='60d60b16-5646-4b63-93cb-357e1bcfb2bc', ...)\n"
     ]
    }
   ],
   "source": [
    "# base_network PyPSA model\n",
    "n_b = pypsa.Network(network_path_b)\n",
    "\n",
    "# lines dataframe\n",
    "lines_b = n_b.lines\n",
    "lines_b[\"geometry\"] = lines_b[\"geometry\"].apply(loads)\n",
    "lines_b = gpd.GeoDataFrame(lines_b, crs=\"epsg:4326\")\n",
    "\n",
    "# buses dataframe\n",
    "buses_b = n_b.buses\n",
    "buses_b[\"geometry\"] = gpd.points_from_xy(buses_b.lon, buses_b.lat)\n",
    "buses_b = gpd.GeoDataFrame(buses_b, crs=\"epsg:4326\")\n",
    "\n",
    "# transformer dataframe\n",
    "transformer_b = gpd.read_file(\n",
    "    transformer_OBN_path, GEOM_POSSIBLE_NAMES=\"geometry\", KEEP_GEOM_COLUMNS=\"NO\"\n",
    ")\n",
    "\n",
    "# hvplot\n",
    "hhb = (\n",
    "    buses_b.hvplot(\n",
    "        geo=True,\n",
    "        size=10,  # buses[\"tag_area\"]**(0.5)/10,\n",
    "        frame_height=750,\n",
    "        alpha=0.4,\n",
    "        tiles=\"CartoLight\",\n",
    "        color=\"orange\",\n",
    "    )\n",
    "    * lines_b.hvplot(geo=True, alpha=0.4).opts(active_tools=[\"pan\", \"wheel_zoom\"])\n",
    "    * transformer_b.hvplot(geo=True, color=\"red\", alpha=0.4).opts(\n",
    "        active_tools=[\"pan\", \"wheel_zoom\"]\n",
    "    )\n",
    ")\n",
    "# display (hhb)\n",
    "hv.save(hhb, \"documentation/base_network.html\");"
   ]
  },
  {
   "cell_type": "code",
   "execution_count": null,
   "metadata": {},
   "outputs": [],
   "source": []
  },
  {
   "attachments": {},
   "cell_type": "markdown",
   "metadata": {},
   "source": [
    "## Plot network of add_electricity\n",
    "\n",
    "`add_electricity` adds generators and load to the `base_network` model, as such no differences are expected with respect to the output model of `base_network`\n",
    "\n",
    "Similarly to the previous cases:\n",
    "- `n_a` is the PyPSA network model\n",
    "- `n_a.lines` is the lines dataframe\n",
    "- `n_a.buses` is the buses dataframe"
   ]
  },
  {
   "cell_type": "code",
   "execution_count": null,
   "metadata": {},
   "outputs": [
    {
     "name": "stderr",
     "output_type": "stream",
     "text": [
      "INFO:pypsa.io:Imported network elec.nc has buses, carriers, generators, lines, loads, storage_units, transformers\n",
      "WARNING:bokeh.core.validation.check:W-1005 (FIXED_SIZING_MODE): 'fixed' sizing mode requires width and height to be set: Row(id='1752', ...)\n"
     ]
    }
   ],
   "source": [
    "n_a = pypsa.Network(network_path_a)\n",
    "\n",
    "# lines dataframe\n",
    "lines_a = n_a.lines\n",
    "lines_a[\"geometry\"] = lines_a[\"geometry\"].apply(loads)\n",
    "lines_a = gpd.GeoDataFrame(lines_a, crs=\"epsg:4326\")\n",
    "lines_a[\"line_id\"] = pd.Series(lines_a.index.map(str), index=lines_a.index)\n",
    "\n",
    "# buses dataframe\n",
    "buses_a = n_a.buses\n",
    "buses_a[\"geometry\"] = gpd.points_from_xy(buses_a.lon, buses_a.lat)\n",
    "buses_a = gpd.GeoDataFrame(buses_a, crs=\"epsg:4326\")\n",
    "\n",
    "# hvplot\n",
    "hha = buses_a.hvplot(\n",
    "    geo=True,\n",
    "    size=10,  # buses[\"tag_area\"]**(0.5)/10,\n",
    "    frame_height=750,\n",
    "    alpha=0.4,\n",
    "    tiles=\"CartoLight\",\n",
    "    color=\"orange\",\n",
    ") * lines_a.hvplot(geo=True, alpha=0.4, hover_cols=\"line_id\").opts(\n",
    "    active_tools=[\"pan\", \"wheel_zoom\"]\n",
    ")\n",
    "# display (hha)\n",
    "hv.save(hha, \"documentation/add_electricity.html\");"
   ]
  },
  {
   "attachments": {},
   "cell_type": "markdown",
   "metadata": {},
   "source": [
    "## Plot network of simplify_network\n",
    "\n",
    "`simplify_network` modifies the structure of the network obtained from `add_electricity` to remove dead-hends and group disconnected nodes that are not connected with the main network.\n",
    "The differences between the networks by `simplify_network` and `add_electricity` can be easily scouted by comparing the hvplots of the previous cell and the following.\n",
    "\n",
    "Similarly to the previous cases:\n",
    "- `n_s` is the PyPSA network model\n",
    "- `n_s.lines` is the lines dataframe\n",
    "- `n_s.buses` is the buses dataframe"
   ]
  },
  {
   "cell_type": "code",
   "execution_count": null,
   "metadata": {},
   "outputs": [
    {
     "name": "stderr",
     "output_type": "stream",
     "text": [
      "INFO:pypsa.io:Imported network elec_s.nc has buses, carriers, generators, lines, loads, storage_units\n",
      "WARNING:bokeh.core.validation.check:W-1005 (FIXED_SIZING_MODE): 'fixed' sizing mode requires width and height to be set: Row(id='1933', ...)\n"
     ]
    }
   ],
   "source": [
    "n_s = pypsa.Network(network_path_s)\n",
    "\n",
    "# buses dataframe\n",
    "buses_s = n_s.buses\n",
    "buses_s[\"geometry\"] = gpd.points_from_xy(buses_s.x, buses_s.y)\n",
    "buses_s = gpd.GeoDataFrame(buses_s, crs=\"epsg:4326\")\n",
    "\n",
    "# lines dataframe\n",
    "lines_s = n_s.lines\n",
    "lines_s[\"geometry\"] = lines_s[\"geometry\"] = lines_s.apply(\n",
    "    lambda x: LineString(\n",
    "        [buses_s.loc[x[\"bus0\"], \"geometry\"], buses_s.loc[x[\"bus1\"], \"geometry\"]]\n",
    "    ),\n",
    "    axis=1,\n",
    ")\n",
    "lines_s = gpd.GeoDataFrame(lines_s, crs=\"epsg:4326\")\n",
    "lines_s[\"line_id\"] = pd.Series(lines_s.index.map(str), index=lines_s.index)\n",
    "\n",
    "# hvplot\n",
    "hhs = buses_s.hvplot(\n",
    "    geo=True,\n",
    "    size=10,  # buses[\"tag_area\"]**(0.5)/10,\n",
    "    frame_height=750,\n",
    "    alpha=0.4,\n",
    "    tiles=\"CartoLight\",\n",
    "    color=\"orange\",\n",
    ") * lines_s.hvplot(geo=True, alpha=0.4, hover_cols=\"line_id\").opts(\n",
    "    active_tools=[\"pan\", \"wheel_zoom\"]\n",
    ")\n",
    "# display(hhs)\n",
    "hv.save(hhs, \"documentation/simplified_cluster.html\")\n"
   ]
  },
  {
   "cell_type": "code",
   "execution_count": null,
   "metadata": {},
   "outputs": [
    {
     "data": {
      "text/plain": [
       "nan"
      ]
     },
     "execution_count": 10,
     "metadata": {},
     "output_type": "execute_result"
    }
   ],
   "source": [
    "ids_220 = lines_a[lines_a.v_nom == 220].index\n",
    "lines_a.loc[ids_220, \"s_nom\"]\n",
    "ids_220_in_s = ids_220.intersection(lines_s.index)\n",
    "check_df = pd.DataFrame({\"simplified\": lines_s.loc[ids_220_in_s, \"s_nom\"], \"add\": lines_a.loc[ids_220_in_s, \"s_nom\"]})\n",
    "max_delta = (check_df[\"simplified\"] - check_df[\"add\"]).abs().max()\n",
    "max_delta"
   ]
  },
  {
   "attachments": {},
   "cell_type": "markdown",
   "metadata": {},
   "source": [
    "## Plot network of cluster_network\n",
    "\n",
    "`cluster_network` modifies the structure of the network obtained from `simplify_network` to aggregate close nodes and reduce the size of the problem as specified by the configuration file ``config.yaml``.\n",
    "The differences between the networks by `cluster_network` and `simplify_network` can be easily scouted by comparing the hvplots of the previous cell and the following.\n",
    "\n",
    "Similarly to the previous cases:\n",
    "- `n_c` is the PyPSA network model\n",
    "- `n_c.lines` is the lines dataframe\n",
    "- `n_c.buses` is the buses dataframe"
   ]
  },
  {
   "cell_type": "code",
   "execution_count": null,
   "metadata": {},
   "outputs": [
    {
     "name": "stderr",
     "output_type": "stream",
     "text": [
      "INFO:pypsa.io:Imported network elec_s_6.nc has buses, carriers, generators, lines, loads, storage_units\n",
      "WARNING:bokeh.core.validation.check:W-1005 (FIXED_SIZING_MODE): 'fixed' sizing mode requires width and height to be set: Row(id='2114', ...)\n"
     ]
    }
   ],
   "source": [
    "n_c = pypsa.Network(network_path_c)\n",
    "\n",
    "# buses dataframe\n",
    "buses_c = n_c.buses\n",
    "buses_c[\"geometry\"] = gpd.points_from_xy(buses_c.x, buses_c.y)\n",
    "buses_c = gpd.GeoDataFrame(buses_c, crs=\"epsg:4326\")\n",
    "\n",
    "# lines dataframe\n",
    "lines_c = n_c.lines\n",
    "lines_c[\"geometry\"] = lines_c.apply(\n",
    "    lambda x: LineString(\n",
    "        [buses_c.loc[x[\"bus0\"], \"geometry\"], buses_c.loc[x[\"bus1\"], \"geometry\"]]\n",
    "    ),\n",
    "    axis=1,\n",
    ")\n",
    "lines_c = gpd.GeoDataFrame(lines_c, crs=\"epsg:4326\")\n",
    "\n",
    "# hvplot\n",
    "hhc = buses_c.hvplot(\n",
    "    geo=True,\n",
    "    size=10,  # buses[\"tag_area\"]**(0.5)/10,\n",
    "    frame_height=750,\n",
    "    alpha=0.4,\n",
    "    tiles=\"CartoLight\",\n",
    "    color=\"orange\",\n",
    ") * lines_c.hvplot(geo=True, alpha=0.4).opts(active_tools=[\"pan\", \"wheel_zoom\"])\n",
    "# display(hhc)\n",
    "hv.save(hhc, \"documentation/network_cluster.html\");\n"
   ]
  }
 ],
 "metadata": {
  "kernelspec": {
   "display_name": "pypsa-earth",
   "language": "python",
   "name": "python3"
  },
  "language_info": {
   "codemirror_mode": {
    "name": "ipython",
    "version": 3
   },
   "file_extension": ".py",
   "mimetype": "text/x-python",
   "name": "python",
   "nbconvert_exporter": "python",
   "pygments_lexer": "ipython3",
   "version": "3.11.13"
  }
 },
 "nbformat": 4,
 "nbformat_minor": 4
}
