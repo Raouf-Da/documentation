{
 "cells": [
  {
   "cell_type": "markdown",
   "metadata": {},
   "source": [
    "# Analyse hydrogen market results from Pypsa-Earth network\n",
    "This notebook analyze the hydrogen market data of the network (.nc) file. It generates comprehensive plots and summaries to visualize the results.\n",
    "* Hydrogen Market Value\n",
    "* Hydrogen Production Cost\n",
    "* Hydrogen Capacity \n",
    "* Hydrogen Export "
   ]
  },
  {
   "cell_type": "markdown",
   "metadata": {},
   "source": [
    "Sources: \n",
    "- locAL DEcarbonization and HYDrogen Export: https://github.com/energyLS/aldehyde \n",
    "- Statistics module: https://pypsa.readthedocs.io/en/latest/examples/statistics.html\n",
    "- Templates and colors: https://github.com/pypsa-meets-earth/documentation/blob/main/notebooks/network_analysis.ipynb"
   ]
  },
  {
   "cell_type": "markdown",
   "metadata": {},
   "source": [
    "File is needed:\n",
    "* PyPSA network file (.nc) includes the hydrogen financing information."
   ]
  },
  {
   "cell_type": "markdown",
   "metadata": {},
   "source": [
    "## Import packages"
   ]
  },
  {
   "cell_type": "code",
   "execution_count": 3,
   "metadata": {},
   "outputs": [],
   "source": [
    "import yaml\n",
    "import pypsa\n",
    "import warnings\n",
    "import matplotlib.pyplot as plt\n",
    "import pandas as pd"
   ]
  },
  {
   "cell_type": "markdown",
   "metadata": {},
   "source": [
    "## Path settings\n",
    "This section reads the config parameters from your config.yaml file and automatically reads the output of the optimization with those settings"
   ]
  },
  {
   "cell_type": "code",
   "execution_count": null,
   "metadata": {},
   "outputs": [],
   "source": [
    "warnings.simplefilter(action='ignore', category=FutureWarning)\n",
    "# Set your pypsa-earth directory here\n",
    "PARENT = \"/home/pypsa-earth/\"\n",
    "# Set your network path (.nc) here\n",
    "network_path = PARENT + f\"results/networks/elec_s_10_ec_lc3.0_Co2L_3H_2035_0.071_AB_14export.nc\"\n",
    "n = pypsa.Network(network_path)\n",
    "statistics = n.statistics()\n",
    "config_path = PARENT + f\"/config.yaml\"\n",
    "config = yaml.safe_load(open(config_path))"
   ]
  },
  {
   "cell_type": "markdown",
   "metadata": {},
   "source": [
    "### Hydrogen Market"
   ]
  },
  {
   "cell_type": "code",
   "execution_count": 64,
   "metadata": {},
   "outputs": [
    {
     "name": "stdout",
     "output_type": "stream",
     "text": [
      "Hydrogen Market is: 12.82 €\n"
     ]
    }
   ],
   "source": [
    "# Market\n",
    "h2_market = (statistics.loc[\"Link\", \"H2 Electrolysis\"][\"Market Value\"]).round(2)\n",
    "print(f\"Hydrogen Market is: {h2_market} €\")"
   ]
  },
  {
   "cell_type": "markdown",
   "metadata": {},
   "source": [
    "### Hydrogen Costs"
   ]
  },
  {
   "cell_type": "code",
   "execution_count": 31,
   "metadata": {},
   "outputs": [
    {
     "name": "stdout",
     "output_type": "stream",
     "text": [
      "Capital Expenditure is: 210.44656 Mio. €\n",
      "Operational Expenditure is: 0.21842496 Mio. €\n",
      "Total Hydrogen Production Cost: 210.66498496 Mio. €\n",
      "Hydrogen Production Cost per Unit: 12.819730658113464 Mio. € per TWh\n"
     ]
    }
   ],
   "source": [
    "h2_capex = (\n",
    "        statistics.loc[\"Link\", \"H2 Electrolysis\"]\n",
    "        .loc[\"Capital Expenditure\"]\n",
    "        .round(2)\n",
    "        / 1e6\n",
    ")  # in Mio. €\n",
    "print(f\"Capital Expenditure is: {h2_capex} Mio. €\")\n",
    "\n",
    "h2_opex = (\n",
    "    statistics.loc[\"Link\", \"H2 Electrolysis\"]\n",
    "    .loc[\"Operational Expenditure\"]\n",
    "    .round(2)\n",
    "    / 1e6\n",
    ")  # in Mio. €\n",
    "print(f\"Operational Expenditure is: {h2_opex} Mio. €\")\n",
    "\n",
    "hydrogen_production = (\n",
    "    statistics.loc[\"Link\", \"H2 Electrolysis\"]\n",
    "    .loc[\"Supply\"]\n",
    "    .sum() \n",
    "    / 1e6\n",
    ")  # in TWh\n",
    "\n",
    "total_hydrogen_production_cost = h2_capex + h2_opex\n",
    "\n",
    "hydrogen_cost_per_unit = total_hydrogen_production_cost / hydrogen_production\n",
    "\n",
    "# Print Results\n",
    "print(f\"Total Hydrogen Production Cost: {total_hydrogen_production_cost} Mio. €\")\n",
    "print(f\"Hydrogen Production Cost per Unit: {hydrogen_cost_per_unit} Mio. € per TWh\")\n"
   ]
  },
  {
   "cell_type": "markdown",
   "metadata": {},
   "source": [
    "### Hydrogen Exports"
   ]
  },
  {
   "cell_type": "code",
   "execution_count": 65,
   "metadata": {},
   "outputs": [
    {
     "name": "stdout",
     "output_type": "stream",
     "text": [
      "Hydrogen Export is: 333662848.5062631 MWh\n"
     ]
    }
   ],
   "source": [
    "H2_export_MWh = (\n",
    "            n.stores[\n",
    "                (n.stores.carrier == \"H2\") & (n.stores.bus == \"H2 export bus\")\n",
    "            ].e_nom_opt.sum()\n",
    "        )  # in GWh\n",
    "print(f\"Hydrogen Export is: {H2_export_MWh} MWh\")"
   ]
  },
  {
   "cell_type": "code",
   "execution_count": 67,
   "metadata": {},
   "outputs": [
    {
     "name": "stdout",
     "output_type": "stream",
     "text": [
      "Hydrogen Export Revenue is: 4277.557717850293 Mio. €\n"
     ]
    }
   ],
   "source": [
    "H2_export_revenue = H2_export_MWh*h2_market\n",
    "print(f\"Hydrogen Export Revenue is: {H2_export_revenue/ 1e6} Mio. €\")"
   ]
  },
  {
   "cell_type": "markdown",
   "metadata": {},
   "source": [
    "### Hydrogen Capacity"
   ]
  },
  {
   "cell_type": "code",
   "execution_count": 49,
   "metadata": {},
   "outputs": [
    {
     "data": {
      "image/png": "[encoded data removed]",
      "text/plain": [
       "<Figure size 640x480 with 1 Axes>"
      ]
     },
     "metadata": {},
     "output_type": "display_data"
    }
   ],
   "source": [
    "installed_capacity = n.statistics.installed_capacity(comps='Link').loc[\"H2 Electrolysis\"]/ 1e3\n",
    "expanded_capacity = n.statistics.expanded_capacity(comps='Link').loc[\"H2 Electrolysis\"]/ 1e3\n",
    "optimal_capacity = n.statistics.optimal_capacity(comps='Link').loc[\"H2 Electrolysis\"]/ 1e3\n",
    "\n",
    "categories = ['Installed Capacity', 'Expanded Capacity', 'Optimal Capacity']\n",
    "values = [installed_capacity, expanded_capacity, optimal_capacity]\n",
    "\n",
    "plt.figure()\n",
    "plt.bar(categories, values)\n",
    "plt.title('Comparison of H2 Electrolysis Capacities')\n",
    "plt.ylabel('Capacity (GW)') \n",
    "plt.xlabel('Capacity Types')\n",
    "plt.tight_layout()\n",
    "plt.show()\n"
   ]
  }
 ],
 "metadata": {
  "kernelspec": {
   "display_name": "pypsa-earth",
   "language": "python",
   "name": "python3"
  },
  "language_info": {
   "codemirror_mode": {
    "name": "ipython",
    "version": 3
   },
   "file_extension": ".py",
   "mimetype": "text/x-python",
   "name": "python",
   "nbconvert_exporter": "python",
   "pygments_lexer": "ipython3",
   "version": "3.10.15"
  }
 },
 "nbformat": 4,
 "nbformat_minor": 2
}
